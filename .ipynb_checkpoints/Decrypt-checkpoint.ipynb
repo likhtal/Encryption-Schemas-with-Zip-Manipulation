{
 "cells": [
  {
   "cell_type": "markdown",
   "metadata": {},
   "source": [
    "## Decryption\n",
    "### Requires access to the \"locked\" files, and to the corresponding key."
   ]
  },
  {
   "cell_type": "code",
   "execution_count": 1,
   "metadata": {},
   "outputs": [
    {
     "name": "stdout",
     "output_type": "stream",
     "text": [
      " Volume in drive C is Acer\n",
      " Volume Serial Number is 56B0-9870\n",
      "\n",
      " Directory of C:\\Downloads\\BYOD\\DataLocker\\Encryption-Schemas-with-Zip-Manipulation\n",
      "\n",
      "03/02/2021  12:17 PM    <DIR>          .\n",
      "03/02/2021  12:17 PM    <DIR>          ..\n",
      "03/02/2021  12:17 PM    <DIR>          .ipynb_checkpoints\n",
      "03/01/2021  01:22 PM            10,315 Decrypt.ipynb\n",
      "03/02/2021  11:59 AM               214 Download.CSV.key\n",
      "03/02/2021  11:58 AM            11,680 Download.CSV.locked\n",
      "03/02/2021  11:58 AM             2,983 index.html\n",
      "03/02/2021  09:56 AM             1,098 LICENSE\n",
      "03/02/2021  11:38 AM               515 README.md\n",
      "12/30/2019  09:30 AM               728 server3.py\n",
      "03/02/2021  11:23 AM    <DIR>          static\n",
      "               7 File(s)         27,533 bytes\n",
      "               4 Dir(s)  214,902,841,344 bytes free\n"
     ]
    }
   ],
   "source": [
    "!dir"
   ]
  },
  {
   "cell_type": "code",
   "execution_count": 2,
   "metadata": {},
   "outputs": [],
   "source": [
    "# So, we have our Download.CSV.locked, and Download.CSV.key"
   ]
  },
  {
   "cell_type": "code",
   "execution_count": 3,
   "metadata": {},
   "outputs": [],
   "source": [
    "#!pip install pycryptodome for below:\n",
    "\n",
    "from Crypto.Cipher import AES\n",
    "from Crypto.Random import get_random_bytes\n",
    "from Crypto.Util.Padding import pad, unpad\n"
   ]
  },
  {
   "cell_type": "code",
   "execution_count": 4,
   "metadata": {},
   "outputs": [],
   "source": [
    "class AESCipher:\n",
    "    def __init__(self, key):\n",
    "        self.key = bytes(key)\n",
    "        self.iv = bytes([47, 28, 226, 107, 181, 219, 38, 58, 118, 181, 139, 61, 227, 13, 96, 202])\n",
    "\n",
    "    def encrypt(self, data):\n",
    "        self.cipher = AES.new(self.key, AES.MODE_CBC, self.iv)\n",
    "        return b64encode(self.iv + self.cipher.encrypt(pad(data.encode('utf-8'), \n",
    "            AES.block_size)))\n",
    "\n",
    "    def decrypt(self, data):\n",
    "        raw = b64decode(data)\n",
    "        print(type(raw), raw)\n",
    "        self.cipher = AES.new(self.key, AES.MODE_CBC, raw[:AES.block_size])\n",
    "        return unpad(self.cipher.decrypt(raw[AES.block_size:]), AES.block_size)\n",
    "\n",
    "    def decrypt_raw(self, raw):\n",
    "        self.cipher = AES.new(self.key, AES.MODE_CBC, self.iv)\n",
    "        return unpad(self.cipher.decrypt(raw), AES.block_size)\n"
   ]
  },
  {
   "cell_type": "code",
   "execution_count": 10,
   "metadata": {},
   "outputs": [
    {
     "name": "stdout",
     "output_type": "stream",
     "text": [
      "Decrypting: test-user TooFew.json.takeout-20180507T191315Z-001.zip.locked\n",
      "Decrypting: test-user csv.csv.locked\n"
     ]
    }
   ],
   "source": [
    "import csv\n",
    "\n",
    "# Decrypting all references in keys.csv (which may contain all files for all users, \n",
    "# or just some files for some users - it is up to you.)\n",
    "# I assume that encrypted (locked) files are also available in the same folder as where you run the script,\n",
    "# and where keys.csv\n",
    "\n",
    "# Assuming leys.csv is in the same folder:\n",
    "with open('keys.csv') as f:\n",
    "    reader = csv.DictReader(f)\n",
    "    for row in reader:\n",
    "        user = row['user']\n",
    "        fn = row['fn']\n",
    "        key = [int(row[str(q)]) for q in range(32)]\n",
    "        print(\"Decrypting:\", user, fn)\n",
    "    \n",
    "        # assuming that fn (locked file) is in the same folder as this script:\n",
    "        with open(fn, 'rb') as f:\n",
    "            encryptedContent = f.read()\n",
    "            aes = AESCipher(key)\n",
    "            orig = aes.decrypt_raw(encryptedContent)\n",
    "            # and writing to the same folder, too:\n",
    "            with open(fn.replace('.locked', ''), 'wb') as wf:\n",
    "                wf.write(orig)"
   ]
  },
  {
   "cell_type": "markdown",
   "metadata": {},
   "source": [
    "### The above does not use any access to AWS (just access to keys.csv and encrypted files referenced in keys.csv)\n",
    "### But, if you have access to AWS, you can decrypt files directly as follows (just another option):"
   ]
  },
  {
   "cell_type": "code",
   "execution_count": 43,
   "metadata": {},
   "outputs": [],
   "source": [
    "def decrypt(fn):\n",
    "    with open(fn + '.key', 'r') as f:\n",
    "    key = unmarshalled['Item']['key']\n",
    "\n",
    "    # assuming that fn (locked file) is in the same folder as this script:\n",
    "    with open(fn, 'rb') as f:\n",
    "        encryptedContent = f.read()\n",
    "        aes = AESCipher(key)\n",
    "        orig = aes.decrypt_raw(encryptedContent)\n",
    "        # and writing to the same folder, too:\n",
    "        with open(fn.replace('.locked', ''), 'wb') as wf:\n",
    "            wf.write(orig)\n",
    "    \n"
   ]
  },
  {
   "cell_type": "code",
   "execution_count": 44,
   "metadata": {},
   "outputs": [],
   "source": [
    "decrypt('csv.csv.locked')"
   ]
  },
  {
   "cell_type": "code",
   "execution_count": 45,
   "metadata": {},
   "outputs": [],
   "source": [
    "decrypt('TooFew.json.takeout-20180507T191315Z-001.zip.locked')"
   ]
  },
  {
   "cell_type": "code",
   "execution_count": null,
   "metadata": {},
   "outputs": [],
   "source": []
  }
 ],
 "metadata": {
  "kernelspec": {
   "display_name": "Python 3",
   "language": "python",
   "name": "python3"
  },
  "language_info": {
   "codemirror_mode": {
    "name": "ipython",
    "version": 3
   },
   "file_extension": ".py",
   "mimetype": "text/x-python",
   "name": "python",
   "nbconvert_exporter": "python",
   "pygments_lexer": "ipython3",
   "version": "3.7.5"
  }
 },
 "nbformat": 4,
 "nbformat_minor": 2
}
