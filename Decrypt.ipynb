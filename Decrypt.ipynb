{
 "cells": [
  {
   "cell_type": "markdown",
   "metadata": {},
   "source": [
    "## Decryption\n",
    "### Requires access to the \"locked\" files, and to the corresponding key."
   ]
  },
  {
   "cell_type": "code",
   "execution_count": 14,
   "metadata": {},
   "outputs": [
    {
     "name": "stdout",
     "output_type": "stream",
     "text": [
      " Volume in drive C is Acer\n",
      " Volume Serial Number is 56B0-9870\n",
      "\n",
      " Directory of C:\\Downloads\\BYOD\\DataLocker\\Encryption-Schemas-with-Zip-Manipulation\n",
      "\n",
      "03/02/2021  01:48 PM    <DIR>          .\n",
      "03/02/2021  01:48 PM    <DIR>          ..\n",
      "12/13/2019  06:50 PM             1,348 .gitignore\n",
      "03/02/2021  01:47 PM    <DIR>          .ipynb_checkpoints\n",
      "03/02/2021  12:33 PM             4,501 Decrypt.ipynb\n",
      "03/02/2021  01:48 PM               168 Download.CSV\n",
      "03/02/2021  01:47 PM               109 Download.CSV.key\n",
      "03/02/2021  01:47 PM               176 Download.CSV.locked\n",
      "03/02/2021  01:48 PM               216 Download.zip\n",
      "03/02/2021  01:48 PM               113 Download.zip.key\n",
      "03/02/2021  01:48 PM               224 Download.zip.locked\n",
      "03/02/2021  01:46 PM            10,389 index.html\n",
      "03/02/2021  09:56 AM             1,098 LICENSE\n",
      "03/02/2021  01:02 PM               547 manifest.webmanifest\n",
      "03/02/2021  11:38 AM               515 README.md\n",
      "03/09/2020  08:23 AM                54 robots.txt\n",
      "12/30/2019  09:30 AM               728 server3.py\n",
      "03/02/2021  01:01 PM             3,470 service-worker.js\n",
      "03/02/2021  11:23 AM    <DIR>          static\n",
      "              15 File(s)         23,656 bytes\n",
      "               4 Dir(s)  213,794,504,704 bytes free\n"
     ]
    }
   ],
   "source": [
    "!dir"
   ]
  },
  {
   "cell_type": "code",
   "execution_count": 15,
   "metadata": {},
   "outputs": [],
   "source": [
    "# So, we have our Download.CSV.locked, and Download.CSV.key"
   ]
  },
  {
   "cell_type": "code",
   "execution_count": 16,
   "metadata": {},
   "outputs": [],
   "source": [
    "#!pip install pycryptodome for below:\n",
    "\n",
    "from Crypto.Cipher import AES\n",
    "from Crypto.Random import get_random_bytes\n",
    "from Crypto.Util.Padding import pad, unpad\n"
   ]
  },
  {
   "cell_type": "code",
   "execution_count": 17,
   "metadata": {},
   "outputs": [],
   "source": [
    "class AESCipher:\n",
    "    def __init__(self, key):\n",
    "        self.key = bytes(key)\n",
    "        self.iv = bytes([47, 28, 226, 107, 181, 219, 38, 58, 118, 181, 139, 61, 227, 13, 96, 202])\n",
    "\n",
    "    def encrypt(self, data):\n",
    "        self.cipher = AES.new(self.key, AES.MODE_CBC, self.iv)\n",
    "        return b64encode(self.iv + self.cipher.encrypt(pad(data.encode('utf-8'), \n",
    "            AES.block_size)))\n",
    "\n",
    "    def decrypt(self, data):\n",
    "        raw = b64decode(data)\n",
    "        print(type(raw), raw)\n",
    "        self.cipher = AES.new(self.key, AES.MODE_CBC, raw[:AES.block_size])\n",
    "        return unpad(self.cipher.decrypt(raw[AES.block_size:]), AES.block_size)\n",
    "\n",
    "    def decrypt_raw(self, raw):\n",
    "        self.cipher = AES.new(self.key, AES.MODE_CBC, self.iv)\n",
    "        return unpad(self.cipher.decrypt(raw), AES.block_size)\n"
   ]
  },
  {
   "cell_type": "code",
   "execution_count": 18,
   "metadata": {},
   "outputs": [],
   "source": [
    "def decrypt(fn):\n",
    "    # assuming that fn.key (key file) is in the same folder as this script:\n",
    "    with open(fn + '.key', 'r') as f:\n",
    "        key = list(map(int, f.readline().split(',')))\n",
    "\n",
    "    # assuming that fn.locked (locked file) is in the same folder as this script:\n",
    "    with open(fn + '.locked', 'rb') as f:\n",
    "        encryptedContent = f.read()\n",
    "        aes = AESCipher(key)\n",
    "        orig = aes.decrypt_raw(encryptedContent)\n",
    "        # and writing to the same folder, too:\n",
    "        with open(fn, 'wb') as wf:\n",
    "            wf.write(orig)\n",
    "    \n"
   ]
  },
  {
   "cell_type": "code",
   "execution_count": 20,
   "metadata": {},
   "outputs": [],
   "source": [
    "decrypt('Download.CSV')\n",
    "decrypt('Download.zip')"
   ]
  },
  {
   "cell_type": "code",
   "execution_count": null,
   "metadata": {},
   "outputs": [],
   "source": []
  }
 ],
 "metadata": {
  "kernelspec": {
   "display_name": "Python 3",
   "language": "python",
   "name": "python3"
  },
  "language_info": {
   "codemirror_mode": {
    "name": "ipython",
    "version": 3
   },
   "file_extension": ".py",
   "mimetype": "text/x-python",
   "name": "python",
   "nbconvert_exporter": "python",
   "pygments_lexer": "ipython3",
   "version": "3.7.5"
  }
 },
 "nbformat": 4,
 "nbformat_minor": 2
}
